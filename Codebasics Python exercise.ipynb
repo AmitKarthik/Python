{
 "cells": [
  {
   "cell_type": "markdown",
   "id": "4095dcb0",
   "metadata": {},
   "source": [
    "Variables"
   ]
  },
  {
   "cell_type": "code",
   "execution_count": 11,
   "id": "85ad8d02",
   "metadata": {},
   "outputs": [
    {
     "ename": "SyntaxError",
     "evalue": "invalid syntax (800182598.py, line 1)",
     "output_type": "error",
     "traceback": [
      "\u001b[1;36m  File \u001b[1;32m\"C:\\Users\\Amitesh\\AppData\\Local\\Temp\\ipykernel_13720\\800182598.py\"\u001b[1;36m, line \u001b[1;32m1\u001b[0m\n\u001b[1;33m    break=5\u001b[0m\n\u001b[1;37m         ^\u001b[0m\n\u001b[1;31mSyntaxError\u001b[0m\u001b[1;31m:\u001b[0m invalid syntax\n"
     ]
    }
   ],
   "source": [
    "break=5"
   ]
  },
  {
   "cell_type": "code",
   "execution_count": 2,
   "id": "9dd11a64",
   "metadata": {},
   "outputs": [
    {
     "name": "stdout",
     "output_type": "stream",
     "text": [
      "present age is 21\n"
     ]
    }
   ],
   "source": [
    "birth_yr=2003\n",
    "curr_yr=2024\n",
    "print('present age is',curr_yr-birth_yr)"
   ]
  },
  {
   "cell_type": "code",
   "execution_count": 12,
   "id": "7dc4cb7c",
   "metadata": {},
   "outputs": [
    {
     "name": "stdout",
     "output_type": "stream",
     "text": [
      "full name is Amitesh S Karthikeyan\n"
     ]
    }
   ],
   "source": [
    "f='Amitesh'\n",
    "m='S'\n",
    "l='Karthikeyan'\n",
    "print('full name is',f,m,l)"
   ]
  },
  {
   "cell_type": "markdown",
   "id": "3034f6cf",
   "metadata": {},
   "source": [
    "Numbers"
   ]
  },
  {
   "cell_type": "code",
   "execution_count": 14,
   "id": "722cba1c",
   "metadata": {},
   "outputs": [
    {
     "name": "stdout",
     "output_type": "stream",
     "text": [
      "total area of field is 4489.6\n"
     ]
    }
   ],
   "source": [
    "l=92\n",
    "w=48.8\n",
    "print('total area of field is',round(l*w,2))"
   ]
  },
  {
   "cell_type": "code",
   "execution_count": 15,
   "id": "ea93bc90",
   "metadata": {},
   "outputs": [
    {
     "name": "stdout",
     "output_type": "stream",
     "text": [
      "balance amount is 6.59\n"
     ]
    }
   ],
   "source": [
    "no_packs=9\n",
    "price_of_one=1.49\n",
    "amount_given=20\n",
    "print('balance amount is',amount_given-(no_packs*price_of_one))"
   ]
  },
  {
   "cell_type": "code",
   "execution_count": 16,
   "id": "fc29308b",
   "metadata": {},
   "outputs": [
    {
     "name": "stdout",
     "output_type": "stream",
     "text": [
      "total expenditure on tiles 15125.0\n"
     ]
    }
   ],
   "source": [
    "sq_side=5.5\n",
    "cost_per_sqft=500\n",
    "print('total expenditure on tiles',(5.5**2)*500)"
   ]
  },
  {
   "cell_type": "code",
   "execution_count": 18,
   "id": "7e88e77f",
   "metadata": {},
   "outputs": [
    {
     "name": "stdout",
     "output_type": "stream",
     "text": [
      "10001\n"
     ]
    }
   ],
   "source": [
    "print(format(17,'b'))"
   ]
  },
  {
   "cell_type": "markdown",
   "id": "9d71e4fc",
   "metadata": {},
   "source": [
    "Strings"
   ]
  },
  {
   "cell_type": "code",
   "execution_count": 26,
   "id": "9e5f9d5c",
   "metadata": {},
   "outputs": [
    {
     "name": "stdout",
     "output_type": "stream",
     "text": [
      "address is 1st cross, \n",
      "Banglore, \n",
      "Karnataka\n"
     ]
    }
   ],
   "source": [
    "street='1st cross'\n",
    "city='Banglore'\n",
    "state='Karnataka'\n",
    "print('address is {}, \\n{}, \\n{}'.format(street,city,state))"
   ]
  },
  {
   "cell_type": "code",
   "execution_count": 34,
   "id": "8280fda0",
   "metadata": {},
   "outputs": [
    {
     "name": "stdout",
     "output_type": "stream",
     "text": [
      "revolves\n",
      "sun\n"
     ]
    }
   ],
   "source": [
    "s=\"Earth revolves around the sun\"\n",
    "print(s[6:14])\n",
    "print(s[-3:])"
   ]
  },
  {
   "cell_type": "code",
   "execution_count": 36,
   "id": "c171a40e",
   "metadata": {},
   "outputs": [
    {
     "name": "stdout",
     "output_type": "stream",
     "text": [
      "I ate 2 fruits and 3 vegetables today\n"
     ]
    }
   ],
   "source": [
    "f=2\n",
    "v=3\n",
    "print(f'I ate {f} fruits and {v} vegetables today')"
   ]
  },
  {
   "cell_type": "code",
   "execution_count": 38,
   "id": "d6f7a8a0",
   "metadata": {},
   "outputs": [
    {
     "name": "stdout",
     "output_type": "stream",
     "text": [
      "maine 10 samosa khaye\n"
     ]
    }
   ],
   "source": [
    "s='maine 200 banana khaye'\n",
    "print(s.replace('200','10').replace('banana','samosa'))"
   ]
  },
  {
   "cell_type": "markdown",
   "id": "cc98ba6b",
   "metadata": {},
   "source": [
    "Lists"
   ]
  },
  {
   "cell_type": "code",
   "execution_count": 41,
   "id": "0bb3f21d",
   "metadata": {},
   "outputs": [
    {
     "name": "stdout",
     "output_type": "stream",
     "text": [
      "Feb greater than Jan by 150 dollars\n"
     ]
    }
   ],
   "source": [
    "l=[2200,2350,2600,2130,2190]\n",
    "print('Feb greater than Jan by',l[1]-l[0],'dollars')"
   ]
  },
  {
   "cell_type": "code",
   "execution_count": 43,
   "id": "d02a5347",
   "metadata": {},
   "outputs": [
    {
     "name": "stdout",
     "output_type": "stream",
     "text": [
      "Expense in first quarter is 7150 dollars\n"
     ]
    }
   ],
   "source": [
    "print('Expense in first quarter is',l[0]+l[1]+l[2],'dollars')"
   ]
  },
  {
   "cell_type": "code",
   "execution_count": 44,
   "id": "9fa52e99",
   "metadata": {},
   "outputs": [
    {
     "name": "stdout",
     "output_type": "stream",
     "text": [
      "False\n"
     ]
    }
   ],
   "source": [
    "print(2000 in l)"
   ]
  },
  {
   "cell_type": "code",
   "execution_count": 46,
   "id": "a965cbc2",
   "metadata": {},
   "outputs": [
    {
     "name": "stdout",
     "output_type": "stream",
     "text": [
      "[2200, 2350, 2600, 2130, 2190, 1980, 1980]\n"
     ]
    }
   ],
   "source": [
    "l.append(1980)\n",
    "print(l)"
   ]
  },
  {
   "cell_type": "code",
   "execution_count": 47,
   "id": "9ed06e4c",
   "metadata": {},
   "outputs": [
    {
     "name": "stdout",
     "output_type": "stream",
     "text": [
      "[2200, 2350, 2600, 1930, 2190, 1980, 1980]\n"
     ]
    }
   ],
   "source": [
    "l[3]-=200\n",
    "print(l)"
   ]
  },
  {
   "cell_type": "code",
   "execution_count": 67,
   "id": "e9bfa2c2",
   "metadata": {},
   "outputs": [
    {
     "name": "stdout",
     "output_type": "stream",
     "text": [
      "5\n"
     ]
    }
   ],
   "source": [
    "heros=['spider man','thor','hulk','iron man','captain america']\n",
    "print(len(heros))"
   ]
  },
  {
   "cell_type": "code",
   "execution_count": 68,
   "id": "b14bdf23",
   "metadata": {},
   "outputs": [
    {
     "name": "stdout",
     "output_type": "stream",
     "text": [
      "['spider man', 'thor', 'hulk', 'iron man', 'captain america', 'black panther']\n"
     ]
    }
   ],
   "source": [
    "heros.append('black panther')\n",
    "print(heros)"
   ]
  },
  {
   "cell_type": "code",
   "execution_count": 69,
   "id": "aabbb5d2",
   "metadata": {},
   "outputs": [
    {
     "name": "stdout",
     "output_type": "stream",
     "text": [
      "['spider man', 'thor', 'hulk', 'black panther', 'iron man', 'captain america']\n"
     ]
    }
   ],
   "source": [
    "k=heros.pop()\n",
    "heros.insert(3,k)\n",
    "print(heros)"
   ]
  },
  {
   "cell_type": "code",
   "execution_count": 70,
   "id": "350a3d36",
   "metadata": {},
   "outputs": [
    {
     "name": "stdout",
     "output_type": "stream",
     "text": [
      "['spider man', 'doctor strange', 'black panther', 'iron man', 'captain america']\n"
     ]
    }
   ],
   "source": [
    "heros[1:3]=['doctor strange']\n",
    "print(heros)"
   ]
  },
  {
   "cell_type": "code",
   "execution_count": 72,
   "id": "dc19562a",
   "metadata": {},
   "outputs": [
    {
     "name": "stdout",
     "output_type": "stream",
     "text": [
      "['black panther', 'captain america', 'doctor strange', 'iron man', 'spider man']\n"
     ]
    }
   ],
   "source": [
    "heros.sort()\n",
    "print(heros)"
   ]
  },
  {
   "cell_type": "markdown",
   "id": "8ffaba9a",
   "metadata": {},
   "source": [
    "IF"
   ]
  },
  {
   "cell_type": "code",
   "execution_count": 73,
   "id": "3d87821f",
   "metadata": {},
   "outputs": [
    {
     "name": "stdout",
     "output_type": "stream",
     "text": [
      "enter city namechennai\n",
      "chennai is an Indian city\n"
     ]
    }
   ],
   "source": [
    "india = [\"mumbai\", \"banglore\", \"chennai\", \"delhi\"]\n",
    "pakistan = [\"lahore\",\"karachi\",\"islamabad\"]\n",
    "bangladesh = [\"dhaka\", \"khulna\", \"rangpur\"]\n",
    "s=input('enter city name')\n",
    "if s in india:\n",
    "    print(s,'is an Indian city')\n",
    "elif s in pakistan:\n",
    "    print(s,'is a Pakistani city')\n",
    "elif s in bangladesh:\n",
    "    print(s,'is a Bangladeshi city')\n",
    "else:\n",
    "    print('location unknown')"
   ]
  },
  {
   "cell_type": "code",
   "execution_count": 76,
   "id": "a3fe8ac4",
   "metadata": {},
   "outputs": [
    {
     "name": "stdout",
     "output_type": "stream",
     "text": [
      "enter city1 namemumbai\n",
      "enter city2 namelahore\n",
      "They don't belong to same country\n"
     ]
    }
   ],
   "source": [
    "india = [\"mumbai\", \"banglore\", \"chennai\", \"delhi\"]\n",
    "pakistan = [\"lahore\",\"karachi\",\"islamabad\"]\n",
    "bangladesh = [\"dhaka\", \"khulna\", \"rangpur\"]\n",
    "s1=input('enter city1 name')\n",
    "s2=input('enter city2 name')\n",
    "if s1 in india and s2 in india:\n",
    "    print('Both are Indian cities')\n",
    "elif s1 in pakistan and s2 in pakistan:\n",
    "    print('Both are Pakistani cities')\n",
    "elif s1 in bangladesh and s2 in bangladesh:\n",
    "    print('Both are Bangladeshi cities')\n",
    "else:\n",
    "    print('They don\\'t belong to same country')"
   ]
  },
  {
   "cell_type": "code",
   "execution_count": 79,
   "id": "9261ef66",
   "metadata": {},
   "outputs": [
    {
     "name": "stdout",
     "output_type": "stream",
     "text": [
      "enter sugar level112.2\n",
      "high sugar level\n"
     ]
    }
   ],
   "source": [
    "s_lvl=float(input('enter sugar level'))\n",
    "if s_lvl<80:\n",
    "    print('low sugar level')\n",
    "elif s_lvl>100:\n",
    "    print('high sugar level')\n",
    "else:\n",
    "    print('normal sugar level')"
   ]
  },
  {
   "cell_type": "markdown",
   "id": "55f90f6d",
   "metadata": {},
   "source": [
    "FOR"
   ]
  },
  {
   "cell_type": "code",
   "execution_count": 83,
   "id": "febcf375",
   "metadata": {},
   "outputs": [
    {
     "name": "stdout",
     "output_type": "stream",
     "text": [
      "4\n"
     ]
    }
   ],
   "source": [
    "result = [\"heads\",\"tails\",\"tails\",\"heads\",\"tails\",\"heads\",\"heads\",\"tails\",\"tails\",\"tails\"]\n",
    "print(result.count('heads'))"
   ]
  },
  {
   "cell_type": "code",
   "execution_count": 84,
   "id": "c0632012",
   "metadata": {},
   "outputs": [
    {
     "name": "stdout",
     "output_type": "stream",
     "text": [
      "count of heads is 4\n"
     ]
    }
   ],
   "source": [
    "result = [\"heads\",\"tails\",\"tails\",\"heads\",\"tails\",\"heads\",\"heads\",\"tails\",\"tails\",\"tails\"]\n",
    "c=0\n",
    "for ele in result:\n",
    "    if ele=='heads':\n",
    "        c+=1\n",
    "print('count of heads is',c)\n",
    "        "
   ]
  },
  {
   "cell_type": "code",
   "execution_count": 85,
   "id": "733c6c9f",
   "metadata": {},
   "outputs": [
    {
     "name": "stdout",
     "output_type": "stream",
     "text": [
      "1\n",
      "9\n",
      "25\n",
      "49\n",
      "81\n"
     ]
    }
   ],
   "source": [
    "for ele in range(1,11,2):\n",
    "    print(ele**2)"
   ]
  },
  {
   "cell_type": "code",
   "execution_count": 88,
   "id": "fabc0e07",
   "metadata": {},
   "outputs": [
    {
     "name": "stdout",
     "output_type": "stream",
     "text": [
      "enter amount spent2100\n",
      "March\n"
     ]
    }
   ],
   "source": [
    "expense_list = [2340, 2500, 2100, 3100, 2980]\n",
    "month_list = [\"January\", \"February\", \"March\", \"April\", \"May\"]\n",
    "exp=int(input('enter amount spent'))\n",
    "for ele in expense_list:\n",
    "    if ele==exp:\n",
    "        print(month_list[expense_list.index(ele)])\n",
    "        break\n",
    "else:\n",
    "    print('expense not found')"
   ]
  },
  {
   "cell_type": "code",
   "execution_count": 91,
   "id": "3f9c459e",
   "metadata": {},
   "outputs": [
    {
     "name": "stdout",
     "output_type": "stream",
     "text": [
      "are you tiredno\n",
      "are you tiredno\n",
      "are you tiredno\n",
      "are you tiredno\n",
      "are you tiredno\n",
      "Congrats on finishing the marathon\n"
     ]
    }
   ],
   "source": [
    "i=1\n",
    "while i<=5:\n",
    "    k=input('are you tired')\n",
    "    if k=='yes':\n",
    "        print('oops you didnt finish')\n",
    "        break\n",
    "    else:\n",
    "        i+=1\n",
    "else:\n",
    "    print('Congrats on finishing the marathon')"
   ]
  },
  {
   "cell_type": "code",
   "execution_count": 93,
   "id": "1832c1b8",
   "metadata": {},
   "outputs": [
    {
     "name": "stdout",
     "output_type": "stream",
     "text": [
      "enter number of rows6\n",
      "*\n",
      "**\n",
      "***\n",
      "****\n",
      "*****\n",
      "******\n"
     ]
    }
   ],
   "source": [
    "n=int(input('enter number of rows'))\n",
    "for i in range(n):\n",
    "    for j in range(i+1):\n",
    "        print('*',end='')\n",
    "    print('')"
   ]
  },
  {
   "cell_type": "markdown",
   "id": "9657b3ea",
   "metadata": {},
   "source": [
    "Functions"
   ]
  },
  {
   "cell_type": "code",
   "execution_count": 94,
   "id": "081268d9",
   "metadata": {},
   "outputs": [
    {
     "name": "stdout",
     "output_type": "stream",
     "text": [
      "50.0\n"
     ]
    }
   ],
   "source": [
    "def area(base,height):\n",
    "    area = (1/2)*base*height\n",
    "    return area\n",
    "print(area(10,10))"
   ]
  },
  {
   "cell_type": "code",
   "execution_count": 96,
   "id": "c1586c09",
   "metadata": {},
   "outputs": [
    {
     "name": "stdout",
     "output_type": "stream",
     "text": [
      "100\n",
      "50.0\n"
     ]
    }
   ],
   "source": [
    "def area(base,height,shape):\n",
    "    if shape=='triangle':\n",
    "        area = (1/2)*base*height\n",
    "    elif shape=='rectangle':\n",
    "        area=base*height\n",
    "    return area\n",
    "print(area(10,10,'rectangle'))\n",
    "print(area(10,10,'triangle'))"
   ]
  },
  {
   "cell_type": "code",
   "execution_count": 98,
   "id": "0499ba51",
   "metadata": {},
   "outputs": [
    {
     "name": "stdout",
     "output_type": "stream",
     "text": [
      "*\n",
      "**\n",
      "***\n",
      "****\n",
      "*****\n",
      "******\n",
      "*******\n",
      "********\n",
      "*********\n",
      "**********\n"
     ]
    }
   ],
   "source": [
    "def pattern(n):\n",
    "    for i in range(n):\n",
    "        for j in range(i+1):\n",
    "            print('*',end='')\n",
    "        print('')\n",
    "pattern(10)"
   ]
  },
  {
   "cell_type": "markdown",
   "id": "d0de4f24",
   "metadata": {},
   "source": [
    "Tuples and Dictionaries"
   ]
  },
  {
   "cell_type": "code",
   "execution_count": 8,
   "id": "25eca2f0",
   "metadata": {},
   "outputs": [
    {
     "name": "stdout",
     "output_type": "stream",
     "text": [
      "enter action to be performedadd\n",
      "enter country nameIndia\n",
      "country data already exists\n"
     ]
    }
   ],
   "source": [
    "def print_dict(d):\n",
    "    for key in d:\n",
    "        print(key,'==>',d[key])\n",
    "def add_dict(d):\n",
    "    k=input('enter country name')\n",
    "    if k in d.keys():\n",
    "        print('country data already exists')\n",
    "    else:\n",
    "        v=int(input('enter population'))\n",
    "        d[k]=v\n",
    "        print_dict(d)\n",
    "def remove_dict(d):\n",
    "    k=input('enter country name')\n",
    "    if k in d.keys():\n",
    "        del d[k]\n",
    "        print_dict(d)\n",
    "    else:\n",
    "        print('country data doesnt exist')\n",
    "def query_dict(d):\n",
    "    k=input('enter country name')\n",
    "    print('population of',k,'is',d[k])\n",
    "d={'China':143,'India':136,'USA':32,'Pakistan':21}\n",
    "a=input('enter action to be performed')\n",
    "if a=='print':\n",
    "    print_dict(d)\n",
    "elif a=='add':\n",
    "    add_dict(d)\n",
    "elif a=='remove':\n",
    "    remove_dict(d)\n",
    "elif a=='query':\n",
    "    query_dict(d)\n",
    "else:\n",
    "    print('invalid action')"
   ]
  },
  {
   "cell_type": "code",
   "execution_count": 16,
   "id": "ead73c68",
   "metadata": {},
   "outputs": [
    {
     "name": "stdout",
     "output_type": "stream",
     "text": [
      "enter action to be performedadd\n",
      "enter tier nameril\n",
      "enter stock value1345\n",
      "{'info': [600, 630, 620], 'ril': [1430, 1490, 1567, 1345], 'mtl': [234, 180, 160]}\n"
     ]
    }
   ],
   "source": [
    "def print_dict(d):\n",
    "    for key in d:\n",
    "        avg=sum(d[key])/len(d[key])\n",
    "        print(key,'==>',d[key],'==>','avg :',round(avg,2))\n",
    "def add_dict(d):\n",
    "    k=input('enter tier name')\n",
    "    v=int(input('enter stock value'))\n",
    "    if k in d.keys():\n",
    "        d[k].append(v)\n",
    "    else:\n",
    "        d[k]=[v]\n",
    "    print(d)\n",
    "        \n",
    "d={'info':[600,630,620],'ril':[1430,1490,1567],'mtl':[234,180,160]}\n",
    "a=input('enter action to be performed')\n",
    "if a=='print':\n",
    "    print_dict(d)\n",
    "elif a=='add':\n",
    "    add_dict(d)\n",
    "else:\n",
    "    print('invalid action')"
   ]
  },
  {
   "cell_type": "code",
   "execution_count": 18,
   "id": "1afa8069",
   "metadata": {},
   "outputs": [
    {
     "name": "stdout",
     "output_type": "stream",
     "text": [
      "enter radius of circle7\n",
      "area of circle: 153.94 \n",
      "circumference of circle: 43.98 \n",
      "diameter of circle: 14\n"
     ]
    }
   ],
   "source": [
    "import math\n",
    "def circle_calc(r):\n",
    "    area=(r**2)*math.pi\n",
    "    circum=(2*r)*math.pi\n",
    "    dia=2*r\n",
    "    print('area of circle:',round(area,2),'\\ncircumference of circle:',round(circum,2),'\\ndiameter of circle:',dia)\n",
    "r=int(input('enter radius of circle'))\n",
    "circle_calc(r)"
   ]
  },
  {
   "cell_type": "markdown",
   "id": "b8909560",
   "metadata": {},
   "source": [
    "File Handling"
   ]
  },
  {
   "cell_type": "code",
   "execution_count": 32,
   "id": "ff2c0df1",
   "metadata": {},
   "outputs": [
    {
     "name": "stdout",
     "output_type": "stream",
     "text": [
      "I is most occuring\n",
      "the is most occuring\n"
     ]
    }
   ],
   "source": [
    "d={}\n",
    "with open(\"poem.txt\",'r') as f:\n",
    "    for line in f:\n",
    "        k=line.split(' ')\n",
    "        for word in k:\n",
    "            if word in d:\n",
    "                d[word]+=1\n",
    "            else:\n",
    "                d[word]=1\n",
    "maxi=0\n",
    "for k in d:\n",
    "    if d[k]>maxi:\n",
    "        maxi=d[k]\n",
    "    else:\n",
    "        continue\n",
    "for ele in d:\n",
    "    if d[ele]==maxi:\n",
    "        print(ele,'is most occuring')"
   ]
  },
  {
   "cell_type": "code",
   "execution_count": 36,
   "id": "7ae66203",
   "metadata": {},
   "outputs": [],
   "source": [
    "with open(\"stocks.csv\", 'r') as read, open(\"output.csv\", 'w') as out:\n",
    "    out.write(\"Company Name,PE Ratio, PB Ratio\\n\")\n",
    "    next(read) \n",
    "    for line in read:\n",
    "        tokens = line.split(\",\")\n",
    "        stock = tokens[0]\n",
    "        price = float(tokens[1])\n",
    "        eps = float(tokens[2])\n",
    "        book = float(tokens[3])\n",
    "        pe = round(price / eps, 2)\n",
    "        pb = round(price / book, 2)\n",
    "        out.write(f\"{stock},{pe},{pb}\\n\")"
   ]
  },
  {
   "cell_type": "code",
   "execution_count": 37,
   "id": "054547c2",
   "metadata": {},
   "outputs": [
    {
     "name": "stdout",
     "output_type": "stream",
     "text": [
      "Company Name,PE Ratio, PB Ratio\n",
      "\n",
      "Reliance,22.23,2.25\n",
      "\n",
      "Tata Steel,4.39,0.68\n",
      "\n",
      "Infosys,18.57,4.42\n",
      "\n",
      "Axis Bank,38.89,2.81\n",
      "\n",
      "Bajaj Finance,58.61,11.86\n",
      "\n"
     ]
    }
   ],
   "source": [
    "with open('output.csv','r') as f:\n",
    "    for line in f:\n",
    "        print(line)"
   ]
  },
  {
   "cell_type": "code",
   "execution_count": null,
   "id": "40d6a47c",
   "metadata": {},
   "outputs": [],
   "source": []
  }
 ],
 "metadata": {
  "kernelspec": {
   "display_name": "Python 3 (ipykernel)",
   "language": "python",
   "name": "python3"
  },
  "language_info": {
   "codemirror_mode": {
    "name": "ipython",
    "version": 3
   },
   "file_extension": ".py",
   "mimetype": "text/x-python",
   "name": "python",
   "nbconvert_exporter": "python",
   "pygments_lexer": "ipython3",
   "version": "3.9.13"
  }
 },
 "nbformat": 4,
 "nbformat_minor": 5
}
